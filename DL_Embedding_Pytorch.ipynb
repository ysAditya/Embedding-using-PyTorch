{
  "nbformat": 4,
  "nbformat_minor": 0,
  "metadata": {
    "colab": {
      "provenance": []
    },
    "kernelspec": {
      "name": "python3",
      "display_name": "Python 3"
    },
    "language_info": {
      "name": "python"
    },
    "accelerator": "GPU",
    "gpuClass": "standard"
  },
  "cells": [
    {
      "cell_type": "code",
      "execution_count": null,
      "metadata": {
        "id": "OzOQXbUSlesn"
      },
      "outputs": [],
      "source": [
        "data_path = 'https://archive.ics.uci.edu/ml/machine-learning-databases/statlog/german/german.data'"
      ]
    },
    {
      "cell_type": "code",
      "source": [
        "import pandas as pd\n",
        "import numpy as np\n",
        "import matplotlib.pyplot as plt\n",
        "import torch\n",
        "from torch.optim import Adam, RMSprop\n",
        "from torch.utils.data import TensorDataset, DataLoader\n",
        "import torch.nn.functional as F\n",
        "import torch.nn as nn"
      ],
      "metadata": {
        "id": "lNpe5Z0BlqPo"
      },
      "execution_count": null,
      "outputs": []
    },
    {
      "cell_type": "code",
      "source": [
        "data = pd.read_csv(data_path, header=None, sep='\\s+')\n",
        "data.head()"
      ],
      "metadata": {
        "colab": {
          "base_uri": "https://localhost:8080/",
          "height": 235
        },
        "id": "lMZlpaXSmR2c",
        "outputId": "6fc57894-ea09-447a-ea70-c3ba2a65820e"
      },
      "execution_count": null,
      "outputs": [
        {
          "output_type": "execute_result",
          "data": {
            "text/plain": [
              "    0   1    2    3     4    5    6   7    8     9   ...    11  12    13  \\\n",
              "0  A11   6  A34  A43  1169  A65  A75   4  A93  A101  ...  A121  67  A143   \n",
              "1  A12  48  A32  A43  5951  A61  A73   2  A92  A101  ...  A121  22  A143   \n",
              "2  A14  12  A34  A46  2096  A61  A74   2  A93  A101  ...  A121  49  A143   \n",
              "3  A11  42  A32  A42  7882  A61  A74   2  A93  A103  ...  A122  45  A143   \n",
              "4  A11  24  A33  A40  4870  A61  A73   3  A93  A101  ...  A124  53  A143   \n",
              "\n",
              "     14 15    16 17    18    19 20  \n",
              "0  A152  2  A173  1  A192  A201  1  \n",
              "1  A152  1  A173  1  A191  A201  2  \n",
              "2  A152  1  A172  2  A191  A201  1  \n",
              "3  A153  1  A173  2  A191  A201  1  \n",
              "4  A153  2  A173  2  A191  A201  2  \n",
              "\n",
              "[5 rows x 21 columns]"
            ],
            "text/html": [
              "\n",
              "  <div id=\"df-0f321b0e-33ed-461b-a5cb-fa2ff71063a7\">\n",
              "    <div class=\"colab-df-container\">\n",
              "      <div>\n",
              "<style scoped>\n",
              "    .dataframe tbody tr th:only-of-type {\n",
              "        vertical-align: middle;\n",
              "    }\n",
              "\n",
              "    .dataframe tbody tr th {\n",
              "        vertical-align: top;\n",
              "    }\n",
              "\n",
              "    .dataframe thead th {\n",
              "        text-align: right;\n",
              "    }\n",
              "</style>\n",
              "<table border=\"1\" class=\"dataframe\">\n",
              "  <thead>\n",
              "    <tr style=\"text-align: right;\">\n",
              "      <th></th>\n",
              "      <th>0</th>\n",
              "      <th>1</th>\n",
              "      <th>2</th>\n",
              "      <th>3</th>\n",
              "      <th>4</th>\n",
              "      <th>5</th>\n",
              "      <th>6</th>\n",
              "      <th>7</th>\n",
              "      <th>8</th>\n",
              "      <th>9</th>\n",
              "      <th>...</th>\n",
              "      <th>11</th>\n",
              "      <th>12</th>\n",
              "      <th>13</th>\n",
              "      <th>14</th>\n",
              "      <th>15</th>\n",
              "      <th>16</th>\n",
              "      <th>17</th>\n",
              "      <th>18</th>\n",
              "      <th>19</th>\n",
              "      <th>20</th>\n",
              "    </tr>\n",
              "  </thead>\n",
              "  <tbody>\n",
              "    <tr>\n",
              "      <th>0</th>\n",
              "      <td>A11</td>\n",
              "      <td>6</td>\n",
              "      <td>A34</td>\n",
              "      <td>A43</td>\n",
              "      <td>1169</td>\n",
              "      <td>A65</td>\n",
              "      <td>A75</td>\n",
              "      <td>4</td>\n",
              "      <td>A93</td>\n",
              "      <td>A101</td>\n",
              "      <td>...</td>\n",
              "      <td>A121</td>\n",
              "      <td>67</td>\n",
              "      <td>A143</td>\n",
              "      <td>A152</td>\n",
              "      <td>2</td>\n",
              "      <td>A173</td>\n",
              "      <td>1</td>\n",
              "      <td>A192</td>\n",
              "      <td>A201</td>\n",
              "      <td>1</td>\n",
              "    </tr>\n",
              "    <tr>\n",
              "      <th>1</th>\n",
              "      <td>A12</td>\n",
              "      <td>48</td>\n",
              "      <td>A32</td>\n",
              "      <td>A43</td>\n",
              "      <td>5951</td>\n",
              "      <td>A61</td>\n",
              "      <td>A73</td>\n",
              "      <td>2</td>\n",
              "      <td>A92</td>\n",
              "      <td>A101</td>\n",
              "      <td>...</td>\n",
              "      <td>A121</td>\n",
              "      <td>22</td>\n",
              "      <td>A143</td>\n",
              "      <td>A152</td>\n",
              "      <td>1</td>\n",
              "      <td>A173</td>\n",
              "      <td>1</td>\n",
              "      <td>A191</td>\n",
              "      <td>A201</td>\n",
              "      <td>2</td>\n",
              "    </tr>\n",
              "    <tr>\n",
              "      <th>2</th>\n",
              "      <td>A14</td>\n",
              "      <td>12</td>\n",
              "      <td>A34</td>\n",
              "      <td>A46</td>\n",
              "      <td>2096</td>\n",
              "      <td>A61</td>\n",
              "      <td>A74</td>\n",
              "      <td>2</td>\n",
              "      <td>A93</td>\n",
              "      <td>A101</td>\n",
              "      <td>...</td>\n",
              "      <td>A121</td>\n",
              "      <td>49</td>\n",
              "      <td>A143</td>\n",
              "      <td>A152</td>\n",
              "      <td>1</td>\n",
              "      <td>A172</td>\n",
              "      <td>2</td>\n",
              "      <td>A191</td>\n",
              "      <td>A201</td>\n",
              "      <td>1</td>\n",
              "    </tr>\n",
              "    <tr>\n",
              "      <th>3</th>\n",
              "      <td>A11</td>\n",
              "      <td>42</td>\n",
              "      <td>A32</td>\n",
              "      <td>A42</td>\n",
              "      <td>7882</td>\n",
              "      <td>A61</td>\n",
              "      <td>A74</td>\n",
              "      <td>2</td>\n",
              "      <td>A93</td>\n",
              "      <td>A103</td>\n",
              "      <td>...</td>\n",
              "      <td>A122</td>\n",
              "      <td>45</td>\n",
              "      <td>A143</td>\n",
              "      <td>A153</td>\n",
              "      <td>1</td>\n",
              "      <td>A173</td>\n",
              "      <td>2</td>\n",
              "      <td>A191</td>\n",
              "      <td>A201</td>\n",
              "      <td>1</td>\n",
              "    </tr>\n",
              "    <tr>\n",
              "      <th>4</th>\n",
              "      <td>A11</td>\n",
              "      <td>24</td>\n",
              "      <td>A33</td>\n",
              "      <td>A40</td>\n",
              "      <td>4870</td>\n",
              "      <td>A61</td>\n",
              "      <td>A73</td>\n",
              "      <td>3</td>\n",
              "      <td>A93</td>\n",
              "      <td>A101</td>\n",
              "      <td>...</td>\n",
              "      <td>A124</td>\n",
              "      <td>53</td>\n",
              "      <td>A143</td>\n",
              "      <td>A153</td>\n",
              "      <td>2</td>\n",
              "      <td>A173</td>\n",
              "      <td>2</td>\n",
              "      <td>A191</td>\n",
              "      <td>A201</td>\n",
              "      <td>2</td>\n",
              "    </tr>\n",
              "  </tbody>\n",
              "</table>\n",
              "<p>5 rows × 21 columns</p>\n",
              "</div>\n",
              "      <button class=\"colab-df-convert\" onclick=\"convertToInteractive('df-0f321b0e-33ed-461b-a5cb-fa2ff71063a7')\"\n",
              "              title=\"Convert this dataframe to an interactive table.\"\n",
              "              style=\"display:none;\">\n",
              "        \n",
              "  <svg xmlns=\"http://www.w3.org/2000/svg\" height=\"24px\"viewBox=\"0 0 24 24\"\n",
              "       width=\"24px\">\n",
              "    <path d=\"M0 0h24v24H0V0z\" fill=\"none\"/>\n",
              "    <path d=\"M18.56 5.44l.94 2.06.94-2.06 2.06-.94-2.06-.94-.94-2.06-.94 2.06-2.06.94zm-11 1L8.5 8.5l.94-2.06 2.06-.94-2.06-.94L8.5 2.5l-.94 2.06-2.06.94zm10 10l.94 2.06.94-2.06 2.06-.94-2.06-.94-.94-2.06-.94 2.06-2.06.94z\"/><path d=\"M17.41 7.96l-1.37-1.37c-.4-.4-.92-.59-1.43-.59-.52 0-1.04.2-1.43.59L10.3 9.45l-7.72 7.72c-.78.78-.78 2.05 0 2.83L4 21.41c.39.39.9.59 1.41.59.51 0 1.02-.2 1.41-.59l7.78-7.78 2.81-2.81c.8-.78.8-2.07 0-2.86zM5.41 20L4 18.59l7.72-7.72 1.47 1.35L5.41 20z\"/>\n",
              "  </svg>\n",
              "      </button>\n",
              "      \n",
              "  <style>\n",
              "    .colab-df-container {\n",
              "      display:flex;\n",
              "      flex-wrap:wrap;\n",
              "      gap: 12px;\n",
              "    }\n",
              "\n",
              "    .colab-df-convert {\n",
              "      background-color: #E8F0FE;\n",
              "      border: none;\n",
              "      border-radius: 50%;\n",
              "      cursor: pointer;\n",
              "      display: none;\n",
              "      fill: #1967D2;\n",
              "      height: 32px;\n",
              "      padding: 0 0 0 0;\n",
              "      width: 32px;\n",
              "    }\n",
              "\n",
              "    .colab-df-convert:hover {\n",
              "      background-color: #E2EBFA;\n",
              "      box-shadow: 0px 1px 2px rgba(60, 64, 67, 0.3), 0px 1px 3px 1px rgba(60, 64, 67, 0.15);\n",
              "      fill: #174EA6;\n",
              "    }\n",
              "\n",
              "    [theme=dark] .colab-df-convert {\n",
              "      background-color: #3B4455;\n",
              "      fill: #D2E3FC;\n",
              "    }\n",
              "\n",
              "    [theme=dark] .colab-df-convert:hover {\n",
              "      background-color: #434B5C;\n",
              "      box-shadow: 0px 1px 3px 1px rgba(0, 0, 0, 0.15);\n",
              "      filter: drop-shadow(0px 1px 2px rgba(0, 0, 0, 0.3));\n",
              "      fill: #FFFFFF;\n",
              "    }\n",
              "  </style>\n",
              "\n",
              "      <script>\n",
              "        const buttonEl =\n",
              "          document.querySelector('#df-0f321b0e-33ed-461b-a5cb-fa2ff71063a7 button.colab-df-convert');\n",
              "        buttonEl.style.display =\n",
              "          google.colab.kernel.accessAllowed ? 'block' : 'none';\n",
              "\n",
              "        async function convertToInteractive(key) {\n",
              "          const element = document.querySelector('#df-0f321b0e-33ed-461b-a5cb-fa2ff71063a7');\n",
              "          const dataTable =\n",
              "            await google.colab.kernel.invokeFunction('convertToInteractive',\n",
              "                                                     [key], {});\n",
              "          if (!dataTable) return;\n",
              "\n",
              "          const docLinkHtml = 'Like what you see? Visit the ' +\n",
              "            '<a target=\"_blank\" href=https://colab.research.google.com/notebooks/data_table.ipynb>data table notebook</a>'\n",
              "            + ' to learn more about interactive tables.';\n",
              "          element.innerHTML = '';\n",
              "          dataTable['output_type'] = 'display_data';\n",
              "          await google.colab.output.renderOutput(dataTable, element);\n",
              "          const docLink = document.createElement('div');\n",
              "          docLink.innerHTML = docLinkHtml;\n",
              "          element.appendChild(docLink);\n",
              "        }\n",
              "      </script>\n",
              "    </div>\n",
              "  </div>\n",
              "  "
            ]
          },
          "metadata": {},
          "execution_count": 3
        }
      ]
    },
    {
      "cell_type": "code",
      "source": [
        "cat_columns = np.array([data.iloc[:,x].dtype=='O' for x in range(20)])"
      ],
      "metadata": {
        "id": "6rT1mIF3ml-9"
      },
      "execution_count": null,
      "outputs": []
    },
    {
      "cell_type": "code",
      "source": [
        "data_exog = data.iloc[:,:20]\n",
        "data_target=data.iloc[:,20]"
      ],
      "metadata": {
        "id": "z6ILIGBurwnz"
      },
      "execution_count": null,
      "outputs": []
    },
    {
      "cell_type": "code",
      "source": [
        "data_cat = data_exog.iloc[:,cat_columns]\n",
        "data_num = data_exog.iloc[:,~cat_columns]"
      ],
      "metadata": {
        "id": "kBBuWumbsJAX"
      },
      "execution_count": null,
      "outputs": []
    },
    {
      "cell_type": "code",
      "source": [
        "target = data.iloc[:,20]"
      ],
      "metadata": {
        "id": "KzaQyIrgsgmS"
      },
      "execution_count": null,
      "outputs": []
    },
    {
      "cell_type": "code",
      "source": [
        "data_num.shape"
      ],
      "metadata": {
        "colab": {
          "base_uri": "https://localhost:8080/"
        },
        "id": "KUsh2Ko7slH-",
        "outputId": "f4084981-c5af-401b-a52c-220ecfd360a7"
      },
      "execution_count": null,
      "outputs": [
        {
          "output_type": "execute_result",
          "data": {
            "text/plain": [
              "(1000, 7)"
            ]
          },
          "metadata": {},
          "execution_count": 21
        }
      ]
    },
    {
      "cell_type": "code",
      "source": [
        "dict = {'x':0, 'y':1}\n",
        "pd.Series(['x','y','z']).map(dict).replace(np.nan,9)"
      ],
      "metadata": {
        "colab": {
          "base_uri": "https://localhost:8080/"
        },
        "id": "VLpcBmn0so5F",
        "outputId": "ae49b916-7d10-49b3-dee0-284c9977a71f"
      },
      "execution_count": null,
      "outputs": [
        {
          "output_type": "execute_result",
          "data": {
            "text/plain": [
              "0    0.0\n",
              "1    1.0\n",
              "2    9.0\n",
              "dtype: float64"
            ]
          },
          "metadata": {},
          "execution_count": 22
        }
      ]
    },
    {
      "cell_type": "code",
      "source": [
        "dict_cat_n = {n:data_cat.loc[:,n].nunique()+1 for n in data_cat.columns}\n",
        "dict_cat_n"
      ],
      "metadata": {
        "colab": {
          "base_uri": "https://localhost:8080/"
        },
        "id": "K0cRdLuLtYCY",
        "outputId": "72730bdf-4aab-4db3-e94c-59d4eb8ee3f5"
      },
      "execution_count": null,
      "outputs": [
        {
          "output_type": "execute_result",
          "data": {
            "text/plain": [
              "{0: 5,\n",
              " 2: 6,\n",
              " 3: 11,\n",
              " 5: 6,\n",
              " 6: 6,\n",
              " 8: 5,\n",
              " 9: 4,\n",
              " 11: 5,\n",
              " 13: 4,\n",
              " 14: 4,\n",
              " 16: 5,\n",
              " 18: 3,\n",
              " 19: 3}"
            ]
          },
          "metadata": {},
          "execution_count": 23
        }
      ]
    },
    {
      "cell_type": "code",
      "source": [
        "pd.get_dummies(data_cat).shape"
      ],
      "metadata": {
        "colab": {
          "base_uri": "https://localhost:8080/"
        },
        "id": "iprFjE99u1Va",
        "outputId": "3cbca16f-87fc-4ce5-b70e-b080559481ed"
      },
      "execution_count": null,
      "outputs": [
        {
          "output_type": "execute_result",
          "data": {
            "text/plain": [
              "(1000, 54)"
            ]
          },
          "metadata": {},
          "execution_count": 25
        }
      ]
    },
    {
      "cell_type": "code",
      "source": [
        "emb_col = dict_cat_n.keys()\n",
        "emb_size = {n:min(5, (c//2)+1) for n,c in dict_cat_n.items()}\n",
        "emb_size"
      ],
      "metadata": {
        "colab": {
          "base_uri": "https://localhost:8080/"
        },
        "id": "iYGPBcWpuYpV",
        "outputId": "af38315d-1ddc-4ce5-aba1-c4bb822a1fff"
      },
      "execution_count": null,
      "outputs": [
        {
          "output_type": "execute_result",
          "data": {
            "text/plain": [
              "{0: 3,\n",
              " 2: 4,\n",
              " 3: 5,\n",
              " 5: 4,\n",
              " 6: 4,\n",
              " 8: 3,\n",
              " 9: 3,\n",
              " 11: 3,\n",
              " 13: 3,\n",
              " 14: 3,\n",
              " 16: 3,\n",
              " 18: 2,\n",
              " 19: 2}"
            ]
          },
          "metadata": {},
          "execution_count": 24
        }
      ]
    },
    {
      "cell_type": "code",
      "source": [
        "def create_dict(pd_series):\n",
        "  x = {k:v+1 for v,k in enumerate(sorted(pd_series.unique()))}\n",
        "  x['UNK'] = 0\n",
        "  return {k:v for k,v in sorted(x.items(), key=lambda x:x[1])}"
      ],
      "metadata": {
        "id": "SiGxYkkHv6tj"
      },
      "execution_count": null,
      "outputs": []
    },
    {
      "cell_type": "code",
      "source": [
        "dict_cat = {n:create_dict(data_cat.loc[:,n]) for n in data_cat.columns}\n",
        "dict_cat"
      ],
      "metadata": {
        "colab": {
          "base_uri": "https://localhost:8080/"
        },
        "id": "IEKfHAT8wecq",
        "outputId": "0972eac4-2488-494f-e3dc-9bb31397b02a"
      },
      "execution_count": null,
      "outputs": [
        {
          "output_type": "execute_result",
          "data": {
            "text/plain": [
              "{0: {'UNK': 0, 'A11': 1, 'A12': 2, 'A13': 3, 'A14': 4},\n",
              " 2: {'UNK': 0, 'A30': 1, 'A31': 2, 'A32': 3, 'A33': 4, 'A34': 5},\n",
              " 3: {'UNK': 0,\n",
              "  'A40': 1,\n",
              "  'A41': 2,\n",
              "  'A410': 3,\n",
              "  'A42': 4,\n",
              "  'A43': 5,\n",
              "  'A44': 6,\n",
              "  'A45': 7,\n",
              "  'A46': 8,\n",
              "  'A48': 9,\n",
              "  'A49': 10},\n",
              " 5: {'UNK': 0, 'A61': 1, 'A62': 2, 'A63': 3, 'A64': 4, 'A65': 5},\n",
              " 6: {'UNK': 0, 'A71': 1, 'A72': 2, 'A73': 3, 'A74': 4, 'A75': 5},\n",
              " 8: {'UNK': 0, 'A91': 1, 'A92': 2, 'A93': 3, 'A94': 4},\n",
              " 9: {'UNK': 0, 'A101': 1, 'A102': 2, 'A103': 3},\n",
              " 11: {'UNK': 0, 'A121': 1, 'A122': 2, 'A123': 3, 'A124': 4},\n",
              " 13: {'UNK': 0, 'A141': 1, 'A142': 2, 'A143': 3},\n",
              " 14: {'UNK': 0, 'A151': 1, 'A152': 2, 'A153': 3},\n",
              " 16: {'UNK': 0, 'A171': 1, 'A172': 2, 'A173': 3, 'A174': 4},\n",
              " 18: {'UNK': 0, 'A191': 1, 'A192': 2},\n",
              " 19: {'UNK': 0, 'A201': 1, 'A202': 2}}"
            ]
          },
          "metadata": {},
          "execution_count": 29
        }
      ]
    },
    {
      "cell_type": "code",
      "source": [
        "shuffled_index_ = np.array(range(len(data)))\n",
        "np.random.shuffle(shuffled_index_)"
      ],
      "metadata": {
        "id": "_5_Ea0gjxmVF"
      },
      "execution_count": null,
      "outputs": []
    },
    {
      "cell_type": "code",
      "source": [
        "train_index = shuffled_index_[:800]\n",
        "val_index = shuffled_index_[800:]"
      ],
      "metadata": {
        "id": "bToE5pFBx1_7"
      },
      "execution_count": null,
      "outputs": []
    },
    {
      "cell_type": "code",
      "source": [
        "x_train, x_test, y_train, y_test = data.iloc[train_index,:20], \\\n",
        "data.iloc[val_index,:20], data.iloc[train_index, 20], \\\n",
        "data.iloc[val_index, 20]"
      ],
      "metadata": {
        "id": "pEtEt4QQyGIB"
      },
      "execution_count": null,
      "outputs": []
    },
    {
      "cell_type": "code",
      "source": [
        "x_train_encoded = x_train.copy()\n",
        "for col in emb_col:\n",
        "  x_train_encoded.loc[:,col] = x_train.loc[:,col].map(dict_cat[col]).replace(np.nan,0)\n",
        "\n",
        "x_test_encoded = x_test.copy()\n",
        "for col in emb_col:\n",
        "  x_test_encoded.loc[:,col] = x_test.loc[:,col].map(dict_cat[col]).replace(np.nan,0)"
      ],
      "metadata": {
        "id": "mBnus0szyysW"
      },
      "execution_count": null,
      "outputs": []
    },
    {
      "cell_type": "code",
      "source": [
        "x_train_encoded"
      ],
      "metadata": {
        "colab": {
          "base_uri": "https://localhost:8080/",
          "height": 423
        },
        "id": "NPH5N-5zzdFQ",
        "outputId": "e3c92950-8ae7-48ea-c17d-a96554c22521"
      },
      "execution_count": null,
      "outputs": [
        {
          "output_type": "execute_result",
          "data": {
            "text/plain": [
              "     0   1   2   3      4   5   6   7   8   9   10  11  12  13  14  15  16  \\\n",
              "825   1  21   5   1   1602   1   5   4   4   1   3   3  30   3   2   2   3   \n",
              "514   4  24   3   1   2255   5   2   4   3   1   1   2  54   3   2   1   3   \n",
              "904   4  24   3   5   1278   1   5   4   3   1   1   1  36   3   2   1   4   \n",
              "854   4  36   4   1  10875   1   5   2   3   1   2   3  45   3   2   2   3   \n",
              "652   1  24   3   1   2303   1   5   4   3   2   1   1  45   3   2   1   3   \n",
              "..   ..  ..  ..  ..    ...  ..  ..  ..  ..  ..  ..  ..  ..  ..  ..  ..  ..   \n",
              "64    4  24   3   5   3181   1   2   4   2   1   4   2  26   3   2   1   3   \n",
              "385   4  18   5   5   2238   1   3   2   2   1   1   3  25   3   2   2   3   \n",
              "486   4  12   3   5   3077   1   3   2   3   1   4   3  52   3   2   1   3   \n",
              "954   1  12   3   1   1893   1   3   4   2   3   4   2  29   3   2   1   3   \n",
              "579   4  24   3   9    937   1   2   4   4   1   3   3  27   3   2   2   2   \n",
              "\n",
              "     17  18  19  \n",
              "825   1   2   1  \n",
              "514   1   1   1  \n",
              "904   1   2   1  \n",
              "854   2   2   1  \n",
              "652   1   1   1  \n",
              "..   ..  ..  ..  \n",
              "64    1   2   1  \n",
              "385   1   1   1  \n",
              "486   1   2   1  \n",
              "954   1   2   1  \n",
              "579   1   1   1  \n",
              "\n",
              "[800 rows x 20 columns]"
            ],
            "text/html": [
              "\n",
              "  <div id=\"df-6cba7e85-9914-4e6d-b889-273a1f280cb1\">\n",
              "    <div class=\"colab-df-container\">\n",
              "      <div>\n",
              "<style scoped>\n",
              "    .dataframe tbody tr th:only-of-type {\n",
              "        vertical-align: middle;\n",
              "    }\n",
              "\n",
              "    .dataframe tbody tr th {\n",
              "        vertical-align: top;\n",
              "    }\n",
              "\n",
              "    .dataframe thead th {\n",
              "        text-align: right;\n",
              "    }\n",
              "</style>\n",
              "<table border=\"1\" class=\"dataframe\">\n",
              "  <thead>\n",
              "    <tr style=\"text-align: right;\">\n",
              "      <th></th>\n",
              "      <th>0</th>\n",
              "      <th>1</th>\n",
              "      <th>2</th>\n",
              "      <th>3</th>\n",
              "      <th>4</th>\n",
              "      <th>5</th>\n",
              "      <th>6</th>\n",
              "      <th>7</th>\n",
              "      <th>8</th>\n",
              "      <th>9</th>\n",
              "      <th>10</th>\n",
              "      <th>11</th>\n",
              "      <th>12</th>\n",
              "      <th>13</th>\n",
              "      <th>14</th>\n",
              "      <th>15</th>\n",
              "      <th>16</th>\n",
              "      <th>17</th>\n",
              "      <th>18</th>\n",
              "      <th>19</th>\n",
              "    </tr>\n",
              "  </thead>\n",
              "  <tbody>\n",
              "    <tr>\n",
              "      <th>825</th>\n",
              "      <td>1</td>\n",
              "      <td>21</td>\n",
              "      <td>5</td>\n",
              "      <td>1</td>\n",
              "      <td>1602</td>\n",
              "      <td>1</td>\n",
              "      <td>5</td>\n",
              "      <td>4</td>\n",
              "      <td>4</td>\n",
              "      <td>1</td>\n",
              "      <td>3</td>\n",
              "      <td>3</td>\n",
              "      <td>30</td>\n",
              "      <td>3</td>\n",
              "      <td>2</td>\n",
              "      <td>2</td>\n",
              "      <td>3</td>\n",
              "      <td>1</td>\n",
              "      <td>2</td>\n",
              "      <td>1</td>\n",
              "    </tr>\n",
              "    <tr>\n",
              "      <th>514</th>\n",
              "      <td>4</td>\n",
              "      <td>24</td>\n",
              "      <td>3</td>\n",
              "      <td>1</td>\n",
              "      <td>2255</td>\n",
              "      <td>5</td>\n",
              "      <td>2</td>\n",
              "      <td>4</td>\n",
              "      <td>3</td>\n",
              "      <td>1</td>\n",
              "      <td>1</td>\n",
              "      <td>2</td>\n",
              "      <td>54</td>\n",
              "      <td>3</td>\n",
              "      <td>2</td>\n",
              "      <td>1</td>\n",
              "      <td>3</td>\n",
              "      <td>1</td>\n",
              "      <td>1</td>\n",
              "      <td>1</td>\n",
              "    </tr>\n",
              "    <tr>\n",
              "      <th>904</th>\n",
              "      <td>4</td>\n",
              "      <td>24</td>\n",
              "      <td>3</td>\n",
              "      <td>5</td>\n",
              "      <td>1278</td>\n",
              "      <td>1</td>\n",
              "      <td>5</td>\n",
              "      <td>4</td>\n",
              "      <td>3</td>\n",
              "      <td>1</td>\n",
              "      <td>1</td>\n",
              "      <td>1</td>\n",
              "      <td>36</td>\n",
              "      <td>3</td>\n",
              "      <td>2</td>\n",
              "      <td>1</td>\n",
              "      <td>4</td>\n",
              "      <td>1</td>\n",
              "      <td>2</td>\n",
              "      <td>1</td>\n",
              "    </tr>\n",
              "    <tr>\n",
              "      <th>854</th>\n",
              "      <td>4</td>\n",
              "      <td>36</td>\n",
              "      <td>4</td>\n",
              "      <td>1</td>\n",
              "      <td>10875</td>\n",
              "      <td>1</td>\n",
              "      <td>5</td>\n",
              "      <td>2</td>\n",
              "      <td>3</td>\n",
              "      <td>1</td>\n",
              "      <td>2</td>\n",
              "      <td>3</td>\n",
              "      <td>45</td>\n",
              "      <td>3</td>\n",
              "      <td>2</td>\n",
              "      <td>2</td>\n",
              "      <td>3</td>\n",
              "      <td>2</td>\n",
              "      <td>2</td>\n",
              "      <td>1</td>\n",
              "    </tr>\n",
              "    <tr>\n",
              "      <th>652</th>\n",
              "      <td>1</td>\n",
              "      <td>24</td>\n",
              "      <td>3</td>\n",
              "      <td>1</td>\n",
              "      <td>2303</td>\n",
              "      <td>1</td>\n",
              "      <td>5</td>\n",
              "      <td>4</td>\n",
              "      <td>3</td>\n",
              "      <td>2</td>\n",
              "      <td>1</td>\n",
              "      <td>1</td>\n",
              "      <td>45</td>\n",
              "      <td>3</td>\n",
              "      <td>2</td>\n",
              "      <td>1</td>\n",
              "      <td>3</td>\n",
              "      <td>1</td>\n",
              "      <td>1</td>\n",
              "      <td>1</td>\n",
              "    </tr>\n",
              "    <tr>\n",
              "      <th>...</th>\n",
              "      <td>...</td>\n",
              "      <td>...</td>\n",
              "      <td>...</td>\n",
              "      <td>...</td>\n",
              "      <td>...</td>\n",
              "      <td>...</td>\n",
              "      <td>...</td>\n",
              "      <td>...</td>\n",
              "      <td>...</td>\n",
              "      <td>...</td>\n",
              "      <td>...</td>\n",
              "      <td>...</td>\n",
              "      <td>...</td>\n",
              "      <td>...</td>\n",
              "      <td>...</td>\n",
              "      <td>...</td>\n",
              "      <td>...</td>\n",
              "      <td>...</td>\n",
              "      <td>...</td>\n",
              "      <td>...</td>\n",
              "    </tr>\n",
              "    <tr>\n",
              "      <th>64</th>\n",
              "      <td>4</td>\n",
              "      <td>24</td>\n",
              "      <td>3</td>\n",
              "      <td>5</td>\n",
              "      <td>3181</td>\n",
              "      <td>1</td>\n",
              "      <td>2</td>\n",
              "      <td>4</td>\n",
              "      <td>2</td>\n",
              "      <td>1</td>\n",
              "      <td>4</td>\n",
              "      <td>2</td>\n",
              "      <td>26</td>\n",
              "      <td>3</td>\n",
              "      <td>2</td>\n",
              "      <td>1</td>\n",
              "      <td>3</td>\n",
              "      <td>1</td>\n",
              "      <td>2</td>\n",
              "      <td>1</td>\n",
              "    </tr>\n",
              "    <tr>\n",
              "      <th>385</th>\n",
              "      <td>4</td>\n",
              "      <td>18</td>\n",
              "      <td>5</td>\n",
              "      <td>5</td>\n",
              "      <td>2238</td>\n",
              "      <td>1</td>\n",
              "      <td>3</td>\n",
              "      <td>2</td>\n",
              "      <td>2</td>\n",
              "      <td>1</td>\n",
              "      <td>1</td>\n",
              "      <td>3</td>\n",
              "      <td>25</td>\n",
              "      <td>3</td>\n",
              "      <td>2</td>\n",
              "      <td>2</td>\n",
              "      <td>3</td>\n",
              "      <td>1</td>\n",
              "      <td>1</td>\n",
              "      <td>1</td>\n",
              "    </tr>\n",
              "    <tr>\n",
              "      <th>486</th>\n",
              "      <td>4</td>\n",
              "      <td>12</td>\n",
              "      <td>3</td>\n",
              "      <td>5</td>\n",
              "      <td>3077</td>\n",
              "      <td>1</td>\n",
              "      <td>3</td>\n",
              "      <td>2</td>\n",
              "      <td>3</td>\n",
              "      <td>1</td>\n",
              "      <td>4</td>\n",
              "      <td>3</td>\n",
              "      <td>52</td>\n",
              "      <td>3</td>\n",
              "      <td>2</td>\n",
              "      <td>1</td>\n",
              "      <td>3</td>\n",
              "      <td>1</td>\n",
              "      <td>2</td>\n",
              "      <td>1</td>\n",
              "    </tr>\n",
              "    <tr>\n",
              "      <th>954</th>\n",
              "      <td>1</td>\n",
              "      <td>12</td>\n",
              "      <td>3</td>\n",
              "      <td>1</td>\n",
              "      <td>1893</td>\n",
              "      <td>1</td>\n",
              "      <td>3</td>\n",
              "      <td>4</td>\n",
              "      <td>2</td>\n",
              "      <td>3</td>\n",
              "      <td>4</td>\n",
              "      <td>2</td>\n",
              "      <td>29</td>\n",
              "      <td>3</td>\n",
              "      <td>2</td>\n",
              "      <td>1</td>\n",
              "      <td>3</td>\n",
              "      <td>1</td>\n",
              "      <td>2</td>\n",
              "      <td>1</td>\n",
              "    </tr>\n",
              "    <tr>\n",
              "      <th>579</th>\n",
              "      <td>4</td>\n",
              "      <td>24</td>\n",
              "      <td>3</td>\n",
              "      <td>9</td>\n",
              "      <td>937</td>\n",
              "      <td>1</td>\n",
              "      <td>2</td>\n",
              "      <td>4</td>\n",
              "      <td>4</td>\n",
              "      <td>1</td>\n",
              "      <td>3</td>\n",
              "      <td>3</td>\n",
              "      <td>27</td>\n",
              "      <td>3</td>\n",
              "      <td>2</td>\n",
              "      <td>2</td>\n",
              "      <td>2</td>\n",
              "      <td>1</td>\n",
              "      <td>1</td>\n",
              "      <td>1</td>\n",
              "    </tr>\n",
              "  </tbody>\n",
              "</table>\n",
              "<p>800 rows × 20 columns</p>\n",
              "</div>\n",
              "      <button class=\"colab-df-convert\" onclick=\"convertToInteractive('df-6cba7e85-9914-4e6d-b889-273a1f280cb1')\"\n",
              "              title=\"Convert this dataframe to an interactive table.\"\n",
              "              style=\"display:none;\">\n",
              "        \n",
              "  <svg xmlns=\"http://www.w3.org/2000/svg\" height=\"24px\"viewBox=\"0 0 24 24\"\n",
              "       width=\"24px\">\n",
              "    <path d=\"M0 0h24v24H0V0z\" fill=\"none\"/>\n",
              "    <path d=\"M18.56 5.44l.94 2.06.94-2.06 2.06-.94-2.06-.94-.94-2.06-.94 2.06-2.06.94zm-11 1L8.5 8.5l.94-2.06 2.06-.94-2.06-.94L8.5 2.5l-.94 2.06-2.06.94zm10 10l.94 2.06.94-2.06 2.06-.94-2.06-.94-.94-2.06-.94 2.06-2.06.94z\"/><path d=\"M17.41 7.96l-1.37-1.37c-.4-.4-.92-.59-1.43-.59-.52 0-1.04.2-1.43.59L10.3 9.45l-7.72 7.72c-.78.78-.78 2.05 0 2.83L4 21.41c.39.39.9.59 1.41.59.51 0 1.02-.2 1.41-.59l7.78-7.78 2.81-2.81c.8-.78.8-2.07 0-2.86zM5.41 20L4 18.59l7.72-7.72 1.47 1.35L5.41 20z\"/>\n",
              "  </svg>\n",
              "      </button>\n",
              "      \n",
              "  <style>\n",
              "    .colab-df-container {\n",
              "      display:flex;\n",
              "      flex-wrap:wrap;\n",
              "      gap: 12px;\n",
              "    }\n",
              "\n",
              "    .colab-df-convert {\n",
              "      background-color: #E8F0FE;\n",
              "      border: none;\n",
              "      border-radius: 50%;\n",
              "      cursor: pointer;\n",
              "      display: none;\n",
              "      fill: #1967D2;\n",
              "      height: 32px;\n",
              "      padding: 0 0 0 0;\n",
              "      width: 32px;\n",
              "    }\n",
              "\n",
              "    .colab-df-convert:hover {\n",
              "      background-color: #E2EBFA;\n",
              "      box-shadow: 0px 1px 2px rgba(60, 64, 67, 0.3), 0px 1px 3px 1px rgba(60, 64, 67, 0.15);\n",
              "      fill: #174EA6;\n",
              "    }\n",
              "\n",
              "    [theme=dark] .colab-df-convert {\n",
              "      background-color: #3B4455;\n",
              "      fill: #D2E3FC;\n",
              "    }\n",
              "\n",
              "    [theme=dark] .colab-df-convert:hover {\n",
              "      background-color: #434B5C;\n",
              "      box-shadow: 0px 1px 3px 1px rgba(0, 0, 0, 0.15);\n",
              "      filter: drop-shadow(0px 1px 2px rgba(0, 0, 0, 0.3));\n",
              "      fill: #FFFFFF;\n",
              "    }\n",
              "  </style>\n",
              "\n",
              "      <script>\n",
              "        const buttonEl =\n",
              "          document.querySelector('#df-6cba7e85-9914-4e6d-b889-273a1f280cb1 button.colab-df-convert');\n",
              "        buttonEl.style.display =\n",
              "          google.colab.kernel.accessAllowed ? 'block' : 'none';\n",
              "\n",
              "        async function convertToInteractive(key) {\n",
              "          const element = document.querySelector('#df-6cba7e85-9914-4e6d-b889-273a1f280cb1');\n",
              "          const dataTable =\n",
              "            await google.colab.kernel.invokeFunction('convertToInteractive',\n",
              "                                                     [key], {});\n",
              "          if (!dataTable) return;\n",
              "\n",
              "          const docLinkHtml = 'Like what you see? Visit the ' +\n",
              "            '<a target=\"_blank\" href=https://colab.research.google.com/notebooks/data_table.ipynb>data table notebook</a>'\n",
              "            + ' to learn more about interactive tables.';\n",
              "          element.innerHTML = '';\n",
              "          dataTable['output_type'] = 'display_data';\n",
              "          await google.colab.output.renderOutput(dataTable, element);\n",
              "          const docLink = document.createElement('div');\n",
              "          docLink.innerHTML = docLinkHtml;\n",
              "          element.appendChild(docLink);\n",
              "        }\n",
              "      </script>\n",
              "    </div>\n",
              "  </div>\n",
              "  "
            ]
          },
          "metadata": {},
          "execution_count": 38
        }
      ]
    },
    {
      "cell_type": "code",
      "source": [
        "class _get_data():\n",
        "  def __init__(self, X, y, emb_col):\n",
        "    X = X.copy()\n",
        "    self.X_cat = X.loc[:,emb_col].copy().values.astype(np.int64)\n",
        "    self.X_num = X.drop(columns = emb_col).copy().values.astype(np.float64)\n",
        "    self.y = y.values\n",
        "\n",
        "  def __len__(self):\n",
        "    return len(self.y)\n",
        "\n",
        "  def __getitem__(self, idx):\n",
        "    return self.X_cat[idx], self.X_num[idx], self.y[idx]"
      ],
      "metadata": {
        "id": "tE4UNwy5zuEh"
      },
      "execution_count": null,
      "outputs": []
    },
    {
      "cell_type": "code",
      "source": [
        "train_loader = DataLoader(_get_data(x_train_encoded, y_train, emb_col), batch_size = 32, shuffle = True)\n",
        "test_loader = DataLoader(_get_data(x_test_encoded, y_test, emb_col), batch_size = 32, shuffle = False)"
      ],
      "metadata": {
        "id": "ExgI52Ru1AEV"
      },
      "execution_count": null,
      "outputs": []
    },
    {
      "cell_type": "code",
      "source": [
        "train_loader"
      ],
      "metadata": {
        "colab": {
          "base_uri": "https://localhost:8080/"
        },
        "id": "msFhefgc2SpB",
        "outputId": "21f0d4a3-0410-4dab-e2f3-63bd36350d92"
      },
      "execution_count": null,
      "outputs": [
        {
          "output_type": "execute_result",
          "data": {
            "text/plain": [
              "<torch.utils.data.dataloader.DataLoader at 0x7f825c1f9a60>"
            ]
          },
          "metadata": {},
          "execution_count": 48
        }
      ]
    },
    {
      "cell_type": "code",
      "source": [
        "for xx in train_loader:\n",
        "  print(xx)\n",
        "  break\n",
        "\n"
      ],
      "metadata": {
        "colab": {
          "base_uri": "https://localhost:8080/"
        },
        "id": "E82sCQCz2Wc6",
        "outputId": "76094cc4-357a-4a93-b416-90bc286a523f"
      },
      "execution_count": null,
      "outputs": [
        {
          "output_type": "stream",
          "name": "stdout",
          "text": [
            "[tensor([[ 4,  5, 10,  5,  5,  3,  1,  1,  3,  2,  3,  1,  1],\n",
            "        [ 1,  3,  5,  1,  3,  2,  1,  1,  3,  2,  3,  1,  1],\n",
            "        [ 1,  3,  2,  1,  4,  3,  1,  4,  3,  3,  4,  2,  1],\n",
            "        [ 2,  2, 10,  1,  5,  2,  1,  4,  3,  1,  3,  1,  1],\n",
            "        [ 1,  2,  4,  3,  2,  3,  1,  4,  3,  3,  3,  2,  1],\n",
            "        [ 4,  3,  1,  2,  3,  3,  1,  1,  3,  1,  2,  1,  2],\n",
            "        [ 1,  2,  5,  1,  3,  2,  1,  1,  1,  2,  2,  1,  1],\n",
            "        [ 4,  3,  1,  1,  5,  3,  1,  2,  3,  2,  4,  2,  1],\n",
            "        [ 2,  1, 10,  2,  3,  2,  1,  3,  3,  1,  2,  1,  1],\n",
            "        [ 4,  3,  5,  1,  1,  2,  2,  1,  3,  1,  3,  1,  1],\n",
            "        [ 3,  3,  5,  1,  4,  3,  1,  3,  1,  2,  3,  1,  1],\n",
            "        [ 1,  3,  5,  1,  4,  3,  1,  1,  3,  2,  3,  1,  1],\n",
            "        [ 4,  5,  2,  5,  4,  3,  1,  3,  3,  2,  3,  2,  1],\n",
            "        [ 2,  3,  5,  4,  4,  3,  2,  4,  1,  2,  3,  2,  1],\n",
            "        [ 1,  3,  1,  1,  2,  2,  1,  3,  3,  1,  3,  2,  1],\n",
            "        [ 1,  5,  7,  2,  5,  3,  3,  1,  3,  2,  3,  1,  2],\n",
            "        [ 1,  5,  4,  1,  3,  1,  1,  1,  3,  1,  4,  2,  1],\n",
            "        [ 2,  3,  8,  1,  4,  3,  1,  3,  3,  2,  3,  1,  1],\n",
            "        [ 4,  3,  1,  1,  3,  2,  1,  3,  3,  2,  3,  2,  1],\n",
            "        [ 2,  1, 10,  2,  4,  3,  1,  4,  3,  3,  2,  1,  1],\n",
            "        [ 4,  3,  5,  3,  4,  2,  1,  3,  3,  2,  3,  1,  1],\n",
            "        [ 4,  3,  4,  1,  3,  4,  1,  2,  3,  1,  3,  1,  1],\n",
            "        [ 4,  3,  5,  1,  4,  4,  1,  1,  3,  1,  3,  1,  1],\n",
            "        [ 4,  5,  4,  1,  2,  1,  1,  3,  3,  2,  4,  2,  1],\n",
            "        [ 4,  3, 10,  4,  5,  2,  1,  1,  1,  2,  2,  1,  1],\n",
            "        [ 2,  2,  5,  1,  3,  3,  1,  1,  2,  2,  2,  1,  1],\n",
            "        [ 4,  4,  1,  1,  5,  3,  1,  4,  3,  3,  3,  2,  1],\n",
            "        [ 2,  5,  4,  1,  5,  2,  1,  2,  3,  2,  3,  2,  1],\n",
            "        [ 4,  1,  1,  5,  3,  2,  1,  2,  1,  2,  3,  2,  1],\n",
            "        [ 4,  3,  1,  2,  5,  4,  1,  1,  3,  1,  2,  1,  1],\n",
            "        [ 3,  3, 10,  1,  4,  3,  1,  2,  3,  1,  3,  2,  1],\n",
            "        [ 4,  3, 10,  1,  4,  3,  1,  3,  3,  2,  3,  2,  1]]), tensor([[3.6000e+01, 6.3040e+03, 4.0000e+00, 4.0000e+00, 3.6000e+01, 2.0000e+00,\n",
            "         1.0000e+00],\n",
            "        [1.8000e+01, 3.1900e+03, 2.0000e+00, 2.0000e+00, 2.4000e+01, 1.0000e+00,\n",
            "         1.0000e+00],\n",
            "        [2.4000e+01, 2.9100e+03, 2.0000e+00, 1.0000e+00, 3.4000e+01, 1.0000e+00,\n",
            "         1.0000e+00],\n",
            "        [4.8000e+01, 6.4160e+03, 4.0000e+00, 3.0000e+00, 5.9000e+01, 1.0000e+00,\n",
            "         1.0000e+00],\n",
            "        [2.4000e+01, 3.3490e+03, 4.0000e+00, 4.0000e+00, 3.0000e+01, 1.0000e+00,\n",
            "         2.0000e+00],\n",
            "        [1.0000e+01, 1.4180e+03, 3.0000e+00, 2.0000e+00, 3.5000e+01, 1.0000e+00,\n",
            "         1.0000e+00],\n",
            "        [1.2000e+01, 6.2600e+02, 4.0000e+00, 4.0000e+00, 2.4000e+01, 1.0000e+00,\n",
            "         1.0000e+00],\n",
            "        [6.0000e+01, 1.0366e+04, 2.0000e+00, 4.0000e+00, 4.2000e+01, 1.0000e+00,\n",
            "         1.0000e+00],\n",
            "        [3.0000e+01, 4.2800e+03, 4.0000e+00, 4.0000e+00, 2.6000e+01, 2.0000e+00,\n",
            "         1.0000e+00],\n",
            "        [1.8000e+01, 4.3300e+02, 3.0000e+00, 4.0000e+00, 2.2000e+01, 1.0000e+00,\n",
            "         1.0000e+00],\n",
            "        [2.4000e+01, 5.1520e+03, 4.0000e+00, 2.0000e+00, 2.5000e+01, 1.0000e+00,\n",
            "         1.0000e+00],\n",
            "        [9.0000e+00, 1.3640e+03, 3.0000e+00, 4.0000e+00, 5.9000e+01, 1.0000e+00,\n",
            "         1.0000e+00],\n",
            "        [2.4000e+01, 2.1970e+03, 4.0000e+00, 4.0000e+00, 4.3000e+01, 2.0000e+00,\n",
            "         2.0000e+00],\n",
            "        [4.8000e+01, 1.0961e+04, 1.0000e+00, 2.0000e+00, 2.7000e+01, 2.0000e+00,\n",
            "         1.0000e+00],\n",
            "        [1.8000e+01, 1.2160e+03, 4.0000e+00, 3.0000e+00, 2.3000e+01, 1.0000e+00,\n",
            "         1.0000e+00],\n",
            "        [9.0000e+00, 1.2880e+03, 3.0000e+00, 4.0000e+00, 4.8000e+01, 2.0000e+00,\n",
            "         2.0000e+00],\n",
            "        [6.0000e+00, 3.3840e+03, 1.0000e+00, 4.0000e+00, 4.4000e+01, 1.0000e+00,\n",
            "         1.0000e+00],\n",
            "        [3.6000e+01, 2.2730e+03, 3.0000e+00, 1.0000e+00, 3.2000e+01, 2.0000e+00,\n",
            "         2.0000e+00],\n",
            "        [1.0000e+01, 1.3640e+03, 2.0000e+00, 4.0000e+00, 6.4000e+01, 1.0000e+00,\n",
            "         1.0000e+00],\n",
            "        [4.8000e+01, 3.8440e+03, 4.0000e+00, 4.0000e+00, 3.4000e+01, 1.0000e+00,\n",
            "         2.0000e+00],\n",
            "        [2.4000e+01, 1.3760e+03, 4.0000e+00, 1.0000e+00, 2.8000e+01, 1.0000e+00,\n",
            "         1.0000e+00],\n",
            "        [6.0000e+00, 1.7660e+03, 1.0000e+00, 2.0000e+00, 2.1000e+01, 1.0000e+00,\n",
            "         1.0000e+00],\n",
            "        [6.0000e+00, 2.1080e+03, 2.0000e+00, 2.0000e+00, 2.9000e+01, 1.0000e+00,\n",
            "         1.0000e+00],\n",
            "        [1.8000e+01, 3.7800e+03, 3.0000e+00, 2.0000e+00, 3.5000e+01, 2.0000e+00,\n",
            "         1.0000e+00],\n",
            "        [2.1000e+01, 1.5720e+03, 4.0000e+00, 4.0000e+00, 3.6000e+01, 1.0000e+00,\n",
            "         1.0000e+00],\n",
            "        [1.0000e+01, 1.0480e+03, 4.0000e+00, 4.0000e+00, 2.3000e+01, 1.0000e+00,\n",
            "         1.0000e+00],\n",
            "        [2.4000e+01, 2.0320e+03, 4.0000e+00, 4.0000e+00, 6.0000e+01, 2.0000e+00,\n",
            "         1.0000e+00],\n",
            "        [1.8000e+01, 3.6120e+03, 3.0000e+00, 4.0000e+00, 3.7000e+01, 1.0000e+00,\n",
            "         1.0000e+00],\n",
            "        [2.1000e+01, 5.0030e+03, 1.0000e+00, 4.0000e+00, 2.9000e+01, 2.0000e+00,\n",
            "         1.0000e+00],\n",
            "        [2.4000e+01, 1.4690e+03, 4.0000e+00, 4.0000e+00, 4.1000e+01, 1.0000e+00,\n",
            "         1.0000e+00],\n",
            "        [1.5000e+01, 2.6870e+03, 2.0000e+00, 4.0000e+00, 2.6000e+01, 1.0000e+00,\n",
            "         1.0000e+00],\n",
            "        [1.2000e+01, 1.5420e+03, 2.0000e+00, 4.0000e+00, 3.6000e+01, 1.0000e+00,\n",
            "         1.0000e+00]], dtype=torch.float64), tensor([1, 2, 1, 2, 2, 1, 2, 1, 2, 2, 1, 1, 1, 2, 2, 1, 2, 1, 1, 2, 1, 1, 1, 1,\n",
            "        1, 1, 1, 1, 2, 1, 1, 1])]\n"
          ]
        }
      ]
    },
    {
      "cell_type": "code",
      "source": [
        "cat_embed_size = {}\n",
        "for key in dict_cat.keys():\n",
        "  tup = (dict_cat_n[key], emb_size[key])\n",
        "  cat_embed_size[key] = tup\n",
        "\n",
        "cat_embed_size"
      ],
      "metadata": {
        "colab": {
          "base_uri": "https://localhost:8080/"
        },
        "id": "PmBEPsii2gTk",
        "outputId": "fe1ed33b-17d9-4e12-942c-82e5389986f9"
      },
      "execution_count": null,
      "outputs": [
        {
          "output_type": "execute_result",
          "data": {
            "text/plain": [
              "{0: (5, 3),\n",
              " 2: (6, 4),\n",
              " 3: (11, 5),\n",
              " 5: (6, 4),\n",
              " 6: (6, 4),\n",
              " 8: (5, 3),\n",
              " 9: (4, 3),\n",
              " 11: (5, 3),\n",
              " 13: (4, 3),\n",
              " 14: (4, 3),\n",
              " 16: (5, 3),\n",
              " 18: (3, 2),\n",
              " 19: (3, 2)}"
            ]
          },
          "metadata": {},
          "execution_count": 50
        }
      ]
    },
    {
      "cell_type": "code",
      "source": [
        "class MLP_Embedding(nn.Module):\n",
        "  def __init__(self, cat_embed_size, n_num):\n",
        "    super(MLP_Embedding, self).__init__()\n",
        "    ding = nn.ModuleList([nn.Embedding(cat, size) for _, (cat, size) in cat_embed])\n",
        "    n_emb = sum(e.embedding_dim for e in self.embedding)\n",
        "    self.n_emb, self.n_num = n_emb, n_num\n",
        "    self.lin1 = nn.Linear(self.n_emb + self.n_num, 256)\n",
        "    self.bn1 = nn.BatchNorm1d(256)\n",
        "    self.lin2 = nn.Linear(256, 128)\n",
        "    self.out = nn.Linear(128,2)\n",
        "\n",
        "  def forward(self, x_cat, x_num):\n",
        "    x = [e(x_cat[:,i]) for i, e in enumerate(self.embedding)]\n",
        "    x = torch.cat(x, dim=1)\n",
        "    x = torch.cat([x,x_num], dim=1)\n",
        "    x = F.relu(self.lin1(x))\n",
        "    x = self.bn1(x)\n",
        "    x = F.relu(self.lin2(x))\n",
        "    x = self.out(x)\n",
        "    return x"
      ],
      "metadata": {
        "id": "yMcen-p93byQ"
      },
      "execution_count": null,
      "outputs": []
    },
    {
      "cell_type": "code",
      "source": [
        "model = MLP_Embedding(cat_embed_size=cat_embed_size, 1)"
      ],
      "metadata": {
        "colab": {
          "base_uri": "https://localhost:8080/",
          "height": 131
        },
        "id": "Y5Uik6qa6Rq2",
        "outputId": "b845b503-8ee7-43c2-f25e-7ba5221edaee"
      },
      "execution_count": null,
      "outputs": [
        {
          "output_type": "error",
          "ename": "SyntaxError",
          "evalue": "ignored",
          "traceback": [
            "\u001b[0;36m  File \u001b[0;32m\"<ipython-input-52-83652d8b8f20>\"\u001b[0;36m, line \u001b[0;32m1\u001b[0m\n\u001b[0;31m    model = MLP_Embedding(cat_embed_size=cat_embed_size, 1)\u001b[0m\n\u001b[0m                                                          ^\u001b[0m\n\u001b[0;31mSyntaxError\u001b[0m\u001b[0;31m:\u001b[0m positional argument follows keyword argument\n"
          ]
        }
      ]
    }
  ]
}